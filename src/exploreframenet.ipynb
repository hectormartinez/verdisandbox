{
 "cells": [
  {
   "cell_type": "code",
   "execution_count": 40,
   "metadata": {
    "collapsed": false
   },
   "outputs": [],
   "source": [
    "from nltk.corpus import framenet as fn\n",
    "fn.propagate_semtypes()\n",
    "f = fn.frame_by_name(\"Motion\")\n"
   ]
  },
  {
   "cell_type": "code",
   "execution_count": 41,
   "metadata": {
    "collapsed": false
   },
   "outputs": [
    {
     "data": {
      "text/plain": [
       "dict_keys(['supID', 'feRelations', 'subFrameName', 'Child', 'type', 'superFrameName', 'Parent', 'subFrame', 'ID', 'subID', '_type', 'superFrame'])"
      ]
     },
     "execution_count": 41,
     "metadata": {},
     "output_type": "execute_result"
    }
   ],
   "source": [
    "f['frameRelations'][0].keys()"
   ]
  },
  {
   "cell_type": "code",
   "execution_count": 42,
   "metadata": {
    "collapsed": false
   },
   "outputs": [
    {
     "data": {
      "text/plain": [
       "'Motion'"
      ]
     },
     "execution_count": 42,
     "metadata": {},
     "output_type": "execute_result"
    }
   ],
   "source": [
    "f['name']"
   ]
  },
  {
   "cell_type": "code",
   "execution_count": 43,
   "metadata": {
    "collapsed": false
   },
   "outputs": [
    {
     "name": "stdout",
     "output_type": "stream",
     "text": [
      "<Parent=Motion -- Inheritance -> Child=Fluidic_motion>\n",
      "Motion\n",
      "<Parent=Motion -- Inheritance -> Child=Mass_motion>\n",
      "Motion\n",
      "<Parent=Motion -- Inheritance -> Child=Motion_directional>\n",
      "Motion\n",
      "<Parent=Motion -- Inheritance -> Child=Motion_noise>\n",
      "Motion\n",
      "<Parent=Motion -- Inheritance -> Child=Self_motion>\n",
      "Motion\n",
      "<Parent=Motion -- Inheritance -> Child=Traversing>\n",
      "Motion\n",
      "<Complex=Motion -- Subframe -> Component=Getting_underway>\n",
      "<Complex=Motion -- Subframe -> Component=Halt>\n",
      "<Parent=Motion -- Using -> Child=Body_movement>\n",
      "<Parent=Motion -- Using -> Child=Bringing>\n",
      "<Parent=Motion -- Using -> Child=Change_direction>\n",
      "<Parent=Motion -- Using -> Child=Cotheme>\n",
      "<Parent=Motion -- Using -> Child=Departing>\n",
      "<Parent=Motion -- Using -> Child=Emanating>\n",
      "<Parent=Motion -- Using -> Child=Evading>\n",
      "<Parent=Motion -- Using -> Child=Excreting>\n",
      "<Parent=Motion -- Using -> Child=Fluidic_motion>\n",
      "<Parent=Motion -- Using -> Child=Light_movement>\n",
      "<Parent=Motion -- Using -> Child=Motion_noise>\n",
      "<Parent=Motion -- Using -> Child=Operate_vehicle>\n",
      "<Parent=Motion -- Using -> Child=Path_traveled>\n",
      "<Parent=Motion -- Using -> Child=Placing>\n",
      "<Parent=Motion -- Using -> Child=Redirecting>\n",
      "<Parent=Motion -- Using -> Child=Removing>\n",
      "<Parent=Motion -- Using -> Child=Roadways>\n",
      "<MainEntry=Motion -- See_also -> ReferringEntry=Bringing>\n",
      "<MainEntry=Motion -- See_also -> ReferringEntry=Operate_vehicle>\n",
      "<MainEntry=Motion -- See_also -> ReferringEntry=Ride_vehicle>\n",
      "<MainEntry=Motion -- See_also -> ReferringEntry=Self_motion>\n",
      "<Source=Traversing -- ReFraming_Mapping -> Target=Motion>\n",
      "<Neutral=Motion_scenario -- Perspective_on -> Perspectivized=Motion>\n"
     ]
    }
   ],
   "source": [
    "for rel in f['frameRelations']:\n",
    "    print(rel)\n",
    "    if (rel['type']['name']) == 'Inheritance':\n",
    "        print(rel['superFrameName'])"
   ]
  },
  {
   "cell_type": "code",
   "execution_count": 20,
   "metadata": {
    "collapsed": true
   },
   "outputs": [],
   "source": [
    "fn.propagate_semtypes()"
   ]
  },
  {
   "cell_type": "code",
   "execution_count": null,
   "metadata": {
    "collapsed": true
   },
   "outputs": [],
   "source": []
  }
 ],
 "metadata": {
  "kernelspec": {
   "display_name": "Python 3",
   "language": "python",
   "name": "python3"
  },
  "language_info": {
   "codemirror_mode": {
    "name": "ipython",
    "version": 3
   },
   "file_extension": ".py",
   "mimetype": "text/x-python",
   "name": "python",
   "nbconvert_exporter": "python",
   "pygments_lexer": "ipython3",
   "version": "3.5.1"
  }
 },
 "nbformat": 4,
 "nbformat_minor": 0
}
