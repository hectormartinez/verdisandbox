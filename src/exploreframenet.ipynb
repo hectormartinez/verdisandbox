{
 "cells": [
  {
   "cell_type": "code",
   "execution_count": 74,
   "metadata": {
    "collapsed": false
   },
   "outputs": [],
   "source": [
    "from nltk.corpus import framenet as fn\n",
    "fn.propagate_semtypes()\n",
    "f = fn.frame_by_name(\"Event\")"
   ]
  },
  {
   "cell_type": "code",
   "execution_count": 75,
   "metadata": {
    "collapsed": false
   },
   "outputs": [
    {
     "name": "stdout",
     "output_type": "stream",
     "text": [
      "frame (187): Event\n",
      "\n",
      "[definition]\n",
      "  An Event takes place at a Place and Time.  'Big earthquakes only\n",
      "  happen along plate boundaries. INI '  'The party will take place\n",
      "  on Sunday in the all-you-can-eat buffet.'\n",
      "\n",
      "[semTypes] 0 semantic types\n",
      "\n",
      "[frameRelations] 28 frame relations\n",
      "  <Parent=Event -- Inheritance -> Child=Becoming>\n",
      "  <Parent=Event -- Inheritance -> Child=Birth>\n",
      "  <Parent=Event -- Inheritance -> Child=Ceasing_to_be>\n",
      "  <Parent=Event -- Inheritance -> Child=Change_of_consistency>\n",
      "  <Parent=Event -- Inheritance -> Child=Coming_to_believe>\n",
      "  <Parent=Event -- Inheritance -> Child=Eventive_affecting>\n",
      "  <Parent=Event -- Inheritance -> Child=Experience_bodily_harm>\n",
      "  <Parent=Event -- Inheritance -> Child=Getting>\n",
      "  <Parent=Event -- Inheritance -> Child=Go_into_shape>\n",
      "  <Parent=Event -- Inheritance -> Child=Intentionally_act>\n",
      "  <Parent=Event -- Inheritance -> Child=Misdeed>\n",
      "  <Parent=Event -- Inheritance -> Child=Process_end>\n",
      "  <Parent=Event -- Inheritance -> Child=Process_pause>\n",
      "  <Parent=Event -- Inheritance -> Child=Process_resume>\n",
      "  <Parent=Event -- Inheritance -> Child=Process_start>\n",
      "  <Parent=Event -- Inheritance -> Child=Process_stop>\n",
      "  <Parent=Event -- Inheritance -> Child=Rotting>\n",
      "  <Parent=Event -- Inheritance -> Child=Transitive_action>\n",
      "  <Parent=Event -- Inheritance -> Child=Waking_up>\n",
      "  <Complex=Change_of_state_scenario -- Subframe -> Component=Event>\n",
      "  <Parent=Event -- Using -> Child=Frequency>\n",
      "  <Parent=Event -- Using -> Child=Hindering>\n",
      "  <Parent=Event -- Using -> Child=Locale_by_event>\n",
      "  <Parent=Event -- Using -> Child=Participation>\n",
      "  <Parent=Event -- Using -> Child=Preventing>\n",
      "  <Parent=Event -- Using -> Child=Temporal_pattern>\n",
      "  <Earlier=Change_of_state_initial_state -- Precedes -> Later=Event>\n",
      "  <Earlier=Event -- Precedes -> Later=Change_of_state_endstate>\n",
      "\n",
      "[lexUnit] 7 lexical units\n",
      "  development.n (13390), event.n (13923), go_on.v (14568), happen.v\n",
      "  (4886), occur.v (4887), take place.v (4888), transpire.v (11456)\n",
      "\n",
      "\n",
      "[FE] 7 frame elements\n",
      "            Core: Place (1444), Time (1446)\n",
      "Core-Unexpressed: Event (1443)\n",
      "      Peripheral: Manner (4961)\n",
      "  Extra-Thematic: Duration (4960), Frequency (4962), Reason (1445)\n",
      "\n",
      "[FEcoreSets] 0 frame element core sets\n",
      "  \n",
      "\n"
     ]
    }
   ],
   "source": [
    "print(f)"
   ]
  },
  {
   "cell_type": "code",
   "execution_count": 76,
   "metadata": {
    "collapsed": false
   },
   "outputs": [],
   "source": [
    "def isNonLexical(framename):\n",
    "    f = fn.frame_by_name(framename)\n",
    "    print(len(f['lexUnit']))"
   ]
  },
  {
   "cell_type": "code",
   "execution_count": 81,
   "metadata": {
    "collapsed": false
   },
   "outputs": [
    {
     "name": "stdout",
     "output_type": "stream",
     "text": [
      "7\n",
      "0\n",
      "0\n",
      "2\n"
     ]
    }
   ],
   "source": [
    "frms = 'Event Crime_scenario Attempt_distant_interaction_scenario Arson'.split(\" \")\n",
    "for fx in frms:\n",
    "    isNonLexical(fx)"
   ]
  },
  {
   "cell_type": "code",
   "execution_count": 82,
   "metadata": {
    "collapsed": false
   },
   "outputs": [
    {
     "data": {
      "text/plain": [
       "[]"
      ]
     },
     "execution_count": 82,
     "metadata": {},
     "output_type": "execute_result"
    }
   ],
   "source": [
    "f['semTypes']"
   ]
  },
  {
   "cell_type": "code",
   "execution_count": 83,
   "metadata": {
    "collapsed": false
   },
   "outputs": [
    {
     "data": {
      "text/plain": [
       "'Event'"
      ]
     },
     "execution_count": 83,
     "metadata": {},
     "output_type": "execute_result"
    }
   ],
   "source": [
    "f['name']"
   ]
  },
  {
   "cell_type": "code",
   "execution_count": 80,
   "metadata": {
    "collapsed": false
   },
   "outputs": [
    {
     "name": "stdout",
     "output_type": "stream",
     "text": [
      "<Parent=Event -- Inheritance -> Child=Becoming>\n",
      "dict_keys(['subFrame', 'type', 'Child', 'subID', 'superFrame', 'superFrameName', 'supID', 'ID', 'subFrameName', '_type', 'feRelations', 'Parent'])\n",
      "Event Becoming\n",
      "<Parent=Event -- Inheritance -> Child=Birth>\n",
      "dict_keys(['subFrame', 'type', 'Child', 'subID', 'superFrame', 'superFrameName', 'supID', 'ID', 'subFrameName', '_type', 'feRelations', 'Parent'])\n",
      "Event Birth\n",
      "<Parent=Event -- Inheritance -> Child=Ceasing_to_be>\n",
      "dict_keys(['subFrame', 'type', 'Child', 'subID', 'superFrame', 'superFrameName', 'supID', 'ID', 'subFrameName', '_type', 'feRelations', 'Parent'])\n",
      "Event Ceasing_to_be\n",
      "<Parent=Event -- Inheritance -> Child=Change_of_consistency>\n",
      "dict_keys(['subFrame', 'type', 'Child', 'subID', 'superFrame', 'superFrameName', 'supID', 'ID', 'subFrameName', '_type', 'feRelations', 'Parent'])\n",
      "Event Change_of_consistency\n",
      "<Parent=Event -- Inheritance -> Child=Coming_to_believe>\n",
      "dict_keys(['subFrame', 'type', 'Child', 'subID', 'superFrame', 'superFrameName', 'supID', 'ID', 'subFrameName', '_type', 'feRelations', 'Parent'])\n",
      "Event Coming_to_believe\n",
      "<Parent=Event -- Inheritance -> Child=Eventive_affecting>\n",
      "dict_keys(['subFrame', 'type', 'Child', 'subID', 'superFrame', 'superFrameName', 'supID', 'ID', 'subFrameName', '_type', 'feRelations', 'Parent'])\n",
      "Event Eventive_affecting\n",
      "<Parent=Event -- Inheritance -> Child=Experience_bodily_harm>\n",
      "dict_keys(['subFrame', 'type', 'Child', 'subID', 'superFrame', 'superFrameName', 'supID', 'ID', 'subFrameName', '_type', 'feRelations', 'Parent'])\n",
      "Event Experience_bodily_harm\n",
      "<Parent=Event -- Inheritance -> Child=Getting>\n",
      "dict_keys(['subFrame', 'type', 'Child', 'subID', 'superFrame', 'superFrameName', 'supID', 'ID', 'subFrameName', '_type', 'feRelations', 'Parent'])\n",
      "Event Getting\n",
      "<Parent=Event -- Inheritance -> Child=Go_into_shape>\n",
      "dict_keys(['subFrame', 'type', 'Child', 'subID', 'superFrame', 'superFrameName', 'supID', 'ID', 'subFrameName', '_type', 'feRelations', 'Parent'])\n",
      "Event Go_into_shape\n",
      "<Parent=Event -- Inheritance -> Child=Intentionally_act>\n",
      "dict_keys(['subFrame', 'type', 'Child', 'subID', 'superFrame', 'superFrameName', 'supID', 'ID', 'subFrameName', '_type', 'feRelations', 'Parent'])\n",
      "Event Intentionally_act\n",
      "<Parent=Event -- Inheritance -> Child=Misdeed>\n",
      "dict_keys(['subFrame', 'type', 'Child', 'subID', 'superFrame', 'superFrameName', 'supID', 'ID', 'subFrameName', '_type', 'feRelations', 'Parent'])\n",
      "Event Misdeed\n",
      "<Parent=Event -- Inheritance -> Child=Process_end>\n",
      "dict_keys(['subFrame', 'type', 'Child', 'subID', 'superFrame', 'superFrameName', 'supID', 'ID', 'subFrameName', '_type', 'feRelations', 'Parent'])\n",
      "Event Process_end\n",
      "<Parent=Event -- Inheritance -> Child=Process_pause>\n",
      "dict_keys(['subFrame', 'type', 'Child', 'subID', 'superFrame', 'superFrameName', 'supID', 'ID', 'subFrameName', '_type', 'feRelations', 'Parent'])\n",
      "Event Process_pause\n",
      "<Parent=Event -- Inheritance -> Child=Process_resume>\n",
      "dict_keys(['subFrame', 'type', 'Child', 'subID', 'superFrame', 'superFrameName', 'supID', 'ID', 'subFrameName', '_type', 'feRelations', 'Parent'])\n",
      "Event Process_resume\n",
      "<Parent=Event -- Inheritance -> Child=Process_start>\n",
      "dict_keys(['subFrame', 'type', 'Child', 'subID', 'superFrame', 'superFrameName', 'supID', 'ID', 'subFrameName', '_type', 'feRelations', 'Parent'])\n",
      "Event Process_start\n",
      "<Parent=Event -- Inheritance -> Child=Process_stop>\n",
      "dict_keys(['subFrame', 'type', 'Child', 'subID', 'superFrame', 'superFrameName', 'supID', 'ID', 'subFrameName', '_type', 'feRelations', 'Parent'])\n",
      "Event Process_stop\n",
      "<Parent=Event -- Inheritance -> Child=Rotting>\n",
      "dict_keys(['subFrame', 'type', 'Child', 'subID', 'superFrame', 'superFrameName', 'supID', 'ID', 'subFrameName', '_type', 'feRelations', 'Parent'])\n",
      "Event Rotting\n",
      "<Parent=Event -- Inheritance -> Child=Transitive_action>\n",
      "dict_keys(['subFrame', 'type', 'Child', 'subID', 'superFrame', 'superFrameName', 'supID', 'ID', 'subFrameName', '_type', 'feRelations', 'Parent'])\n",
      "Event Transitive_action\n",
      "<Parent=Event -- Inheritance -> Child=Waking_up>\n",
      "dict_keys(['subFrame', 'type', 'Child', 'subID', 'superFrame', 'superFrameName', 'supID', 'ID', 'subFrameName', '_type', 'feRelations', 'Parent'])\n",
      "Event Waking_up\n",
      "<Complex=Change_of_state_scenario -- Subframe -> Component=Event>\n",
      "dict_keys(['subFrame', 'type', 'Complex', 'subID', 'superFrame', 'superFrameName', 'supID', 'subFrameName', '_type', 'feRelations', 'ID', 'Component'])\n",
      "Change_of_state_scenario Event\n",
      "<Parent=Event -- Using -> Child=Frequency>\n",
      "dict_keys(['subFrame', 'type', 'Child', 'subID', 'superFrame', 'superFrameName', 'supID', 'ID', 'subFrameName', '_type', 'feRelations', 'Parent'])\n",
      "Event Frequency\n",
      "<Parent=Event -- Using -> Child=Hindering>\n",
      "dict_keys(['subFrame', 'type', 'Child', 'subID', 'superFrame', 'superFrameName', 'supID', 'ID', 'subFrameName', '_type', 'feRelations', 'Parent'])\n",
      "Event Hindering\n",
      "<Parent=Event -- Using -> Child=Locale_by_event>\n",
      "dict_keys(['subFrame', 'type', 'Child', 'subID', 'superFrame', 'superFrameName', 'supID', 'ID', 'subFrameName', '_type', 'feRelations', 'Parent'])\n",
      "Event Locale_by_event\n",
      "<Parent=Event -- Using -> Child=Participation>\n",
      "dict_keys(['subFrame', 'type', 'Child', 'subID', 'superFrame', 'superFrameName', 'supID', 'ID', 'subFrameName', '_type', 'feRelations', 'Parent'])\n",
      "Event Participation\n",
      "<Parent=Event -- Using -> Child=Preventing>\n",
      "dict_keys(['subFrame', 'type', 'Child', 'subID', 'superFrame', 'superFrameName', 'supID', 'ID', 'subFrameName', '_type', 'feRelations', 'Parent'])\n",
      "Event Preventing\n",
      "<Parent=Event -- Using -> Child=Temporal_pattern>\n",
      "dict_keys(['subFrame', 'type', 'Child', 'subID', 'superFrame', 'superFrameName', 'supID', 'ID', 'subFrameName', '_type', 'feRelations', 'Parent'])\n",
      "Event Temporal_pattern\n",
      "<Earlier=Change_of_state_initial_state -- Precedes -> Later=Event>\n",
      "dict_keys(['Later', 'subFrame', 'type', 'Earlier', 'subID', 'superFrame', 'superFrameName', 'supID', 'subFrameName', '_type', 'feRelations', 'ID'])\n",
      "Change_of_state_initial_state Event\n",
      "<Earlier=Event -- Precedes -> Later=Change_of_state_endstate>\n",
      "dict_keys(['Later', 'subFrame', 'type', 'Earlier', 'subID', 'superFrame', 'superFrameName', 'supID', 'subFrameName', '_type', 'feRelations', 'ID'])\n",
      "Event Change_of_state_endstate\n"
     ]
    }
   ],
   "source": [
    "for rel in f['frameRelations']:\n",
    "    print(rel)\n",
    "    #if (rel['type']['name']) == 'Inheritance':\n",
    "    print(rel.keys())\n",
    "    print(rel['superFrameName'],rel['subFrameName'])"
   ]
  },
  {
   "cell_type": "code",
   "execution_count": null,
   "metadata": {
    "collapsed": true
   },
   "outputs": [],
   "source": []
  },
  {
   "cell_type": "code",
   "execution_count": null,
   "metadata": {
    "collapsed": true
   },
   "outputs": [],
   "source": []
  }
 ],
 "metadata": {
  "kernelspec": {
   "display_name": "Python 3",
   "language": "python",
   "name": "python3"
  },
  "language_info": {
   "codemirror_mode": {
    "name": "ipython",
    "version": 3
   },
   "file_extension": ".py",
   "mimetype": "text/x-python",
   "name": "python",
   "nbconvert_exporter": "python",
   "pygments_lexer": "ipython3",
   "version": "3.5.1"
  }
 },
 "nbformat": 4,
 "nbformat_minor": 0
}
